{
 "cells": [
  {
   "cell_type": "code",
   "execution_count": 1,
   "id": "e1f11f59-5aed-4222-8f34-1ebacc39f040",
   "metadata": {},
   "outputs": [],
   "source": [
    "# 県別の感染状況\n",
    "# ライブラリ・インポート\n",
    "import pandas as pd\n",
    "import matplotlib.pyplot as plt\n",
    "import plotly.express as px\n",
    "import seaborn as sns\n",
    "%matplotlib inline\n",
    "\n",
    "# csv読み込み\n",
    "DATA_DIR = './data/'\n",
    "# mhlw_dir = data_dir +  '/mhlw/'"
   ]
  },
  {
   "cell_type": "code",
   "execution_count": 2,
   "id": "8812d2fb-2ff6-4309-b299-ece247886202",
   "metadata": {},
   "outputs": [],
   "source": [
    "# 県別データ抽出\n",
    "def prefecture_data():\n",
    "    # 性別・年代別新規陽性者(週次)\n",
    "    df = pd.read_csv(DATA_DIR + 'latest_cluster_events.csv', index_col=[0])    \n",
    "    # df = df.T # 転置\n",
    "    # df = df.query('Prefecture != \"ALL\"')\n",
    "    df_prefecture = df\n",
    "    df_prefecture.replace({'*': 0})\n",
    "    return df_prefecture"
   ]
  },
  {
   "cell_type": "code",
   "execution_count": 3,
   "id": "929f7576-ef29-4bf2-a668-fa55e047a6da",
   "metadata": {},
   "outputs": [],
   "source": [
    "df = prefecture_data()"
   ]
  },
  {
   "cell_type": "code",
   "execution_count": 4,
   "id": "ba5b101f-607e-4fa6-bedb-ea197e9718f2",
   "metadata": {},
   "outputs": [
    {
     "data": {
      "text/html": [
       "<div>\n",
       "<style scoped>\n",
       "    .dataframe tbody tr th:only-of-type {\n",
       "        vertical-align: middle;\n",
       "    }\n",
       "\n",
       "    .dataframe tbody tr th {\n",
       "        vertical-align: top;\n",
       "    }\n",
       "\n",
       "    .dataframe thead th {\n",
       "        text-align: right;\n",
       "    }\n",
       "</style>\n",
       "<table border=\"1\" class=\"dataframe\">\n",
       "  <thead>\n",
       "    <tr style=\"text-align: right;\">\n",
       "      <th></th>\n",
       "      <th>Week</th>\n",
       "      <th>Prefecture</th>\n",
       "      <th>Total</th>\n",
       "      <th>MedicalInstitutions</th>\n",
       "      <th>WelfareFacilities</th>\n",
       "      <th>FacilitiesForTheElderly</th>\n",
       "      <th>FacilitiesForChildren</th>\n",
       "      <th>FacilitiesForDisabilities</th>\n",
       "      <th>Restaurants</th>\n",
       "      <th>FacilitiesForSports</th>\n",
       "      <th>SchoolsEtc</th>\n",
       "      <th>Companies</th>\n",
       "      <th>Others</th>\n",
       "    </tr>\n",
       "  </thead>\n",
       "  <tbody>\n",
       "    <tr>\n",
       "      <th>0</th>\n",
       "      <td>2021/08/16~2021/08/22</td>\n",
       "      <td>ALL</td>\n",
       "      <td>413</td>\n",
       "      <td>25</td>\n",
       "      <td>108</td>\n",
       "      <td>43</td>\n",
       "      <td>45</td>\n",
       "      <td>20</td>\n",
       "      <td>50</td>\n",
       "      <td>9</td>\n",
       "      <td>49</td>\n",
       "      <td>129</td>\n",
       "      <td>43</td>\n",
       "    </tr>\n",
       "    <tr>\n",
       "      <th>1</th>\n",
       "      <td>2021/08/23~2021/08/29</td>\n",
       "      <td>ALL</td>\n",
       "      <td>466</td>\n",
       "      <td>29</td>\n",
       "      <td>130</td>\n",
       "      <td>35</td>\n",
       "      <td>68</td>\n",
       "      <td>27</td>\n",
       "      <td>43</td>\n",
       "      <td>9</td>\n",
       "      <td>81</td>\n",
       "      <td>163</td>\n",
       "      <td>11</td>\n",
       "    </tr>\n",
       "    <tr>\n",
       "      <th>2</th>\n",
       "      <td>2021/08/30~2021/09/05</td>\n",
       "      <td>ALL</td>\n",
       "      <td>268</td>\n",
       "      <td>17</td>\n",
       "      <td>86</td>\n",
       "      <td>19</td>\n",
       "      <td>54</td>\n",
       "      <td>13</td>\n",
       "      <td>17</td>\n",
       "      <td>3</td>\n",
       "      <td>46</td>\n",
       "      <td>90</td>\n",
       "      <td>9</td>\n",
       "    </tr>\n",
       "  </tbody>\n",
       "</table>\n",
       "</div>"
      ],
      "text/plain": [
       "                    Week Prefecture  Total  MedicalInstitutions  \\\n",
       "0  2021/08/16~2021/08/22        ALL    413                   25   \n",
       "1  2021/08/23~2021/08/29        ALL    466                   29   \n",
       "2  2021/08/30~2021/09/05        ALL    268                   17   \n",
       "\n",
       "   WelfareFacilities  FacilitiesForTheElderly  FacilitiesForChildren  \\\n",
       "0                108                       43                     45   \n",
       "1                130                       35                     68   \n",
       "2                 86                       19                     54   \n",
       "\n",
       "   FacilitiesForDisabilities  Restaurants  FacilitiesForSports  SchoolsEtc  \\\n",
       "0                         20           50                    9          49   \n",
       "1                         27           43                    9          81   \n",
       "2                         13           17                    3          46   \n",
       "\n",
       "   Companies  Others  \n",
       "0        129      43  \n",
       "1        163      11  \n",
       "2         90       9  "
      ]
     },
     "execution_count": 4,
     "metadata": {},
     "output_type": "execute_result"
    }
   ],
   "source": [
    "df"
   ]
  },
  {
   "cell_type": "code",
   "execution_count": 5,
   "id": "6fac5017-80ba-43ba-a3e0-5304da7a5d79",
   "metadata": {},
   "outputs": [
    {
     "name": "stdout",
     "output_type": "stream",
     "text": [
      "open url: https://covid19.mhlw.go.jp/en\n"
     ]
    },
    {
     "data": {
      "image/png": "[encoded data removed]",
      "text/plain": [
       "<PIL.Image.Image image mode=1 size=370x370 at 0x7F9CDF3C1D90>"
      ]
     },
     "metadata": {},
     "output_type": "display_data"
    }
   ],
   "source": [
    "# qrcode\n",
    "import qrcode\n",
    "\n",
    "# Information Source\n",
    "input_url='https://covid19.mhlw.go.jp/en/'\n",
    "\n",
    "# Generate QR code\n",
    "open_url = qrcode.make(input_url)\n",
    "\n",
    "# Print QR code\n",
    "print('open url:', 'https://covid19.mhlw.go.jp/en')\n",
    "open_url.show()"
   ]
  },
  {
   "cell_type": "code",
   "execution_count": 6,
   "id": "a278177f-a8ce-41da-b2f6-a15b9c09bd2f",
   "metadata": {},
   "outputs": [],
   "source": [
    "# save image\n",
    "# open_url.save('./data/covid19_mhlw.png')"
   ]
  },
  {
   "cell_type": "code",
   "execution_count": null,
   "id": "a9c4a2a9-be8a-4f14-86a3-604c41db40e9",
   "metadata": {},
   "outputs": [],
   "source": []
  },
  {
   "cell_type": "code",
   "execution_count": null,
   "id": "03ea2183-cb39-459a-9a1a-8c04fbb683c0",
   "metadata": {},
   "outputs": [],
   "source": []
  },
  {
   "cell_type": "code",
   "execution_count": null,
   "id": "f57e78c9-08c9-4851-a251-402d850b5b6b",
   "metadata": {},
   "outputs": [],
   "source": []
  }
 ],
 "metadata": {
  "kernelspec": {
   "display_name": "Python 3 (ipykernel)",
   "language": "python",
   "name": "python3"
  },
  "language_info": {
   "codemirror_mode": {
    "name": "ipython",
    "version": 3
   },
   "file_extension": ".py",
   "mimetype": "text/x-python",
   "name": "python",
   "nbconvert_exporter": "python",
   "pygments_lexer": "ipython3",
   "version": "3.8.10"
  }
 },
 "nbformat": 4,
 "nbformat_minor": 5
}

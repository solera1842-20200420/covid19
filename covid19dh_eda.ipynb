{
 "cells": [
  {
   "cell_type": "code",
   "execution_count": 59,
   "id": "e0c0e653-bade-4f48-bc08-7a5c18ec91df",
   "metadata": {},
   "outputs": [],
   "source": [
    "# covid19 data hub EDA\n",
    "# データ・クリーニング\n",
    "\n",
    "# ライブラリ・インポート\n",
    "import numpy as np\n",
    "import pandas as pd\n",
    "import plotly.express as px\n",
    "import matplotlib.pyplot as plt\n",
    "import japanize_matplotlib\n",
    "import seaborn as sns"
   ]
  },
  {
   "cell_type": "code",
   "execution_count": 60,
   "id": "79da806b-25b0-4735-b18e-59ea68fbeab8",
   "metadata": {},
   "outputs": [],
   "source": [
    "# データ・セット保存先ディレクトリ\n",
    "data_dir = './data/'\n",
    "dataset = 'covid19dh_jpn.csv'"
   ]
  },
  {
   "cell_type": "code",
   "execution_count": 64,
   "id": "ba8d6d4a-9ea7-4aaa-a392-7f0fa931de72",
   "metadata": {},
   "outputs": [],
   "source": [
    "# データ・セット読み込み\n",
    "# インデックス: date\n",
    "df = pd.read_csv(data_dir + dataset, index_col=[1])"
   ]
  },
  {
   "cell_type": "code",
   "execution_count": 65,
   "id": "553c8c20-f238-4441-8966-e1f27f1bedaf",
   "metadata": {},
   "outputs": [
    {
     "data": {
      "text/html": [
       "<div>\n",
       "<style scoped>\n",
       "    .dataframe tbody tr th:only-of-type {\n",
       "        vertical-align: middle;\n",
       "    }\n",
       "\n",
       "    .dataframe tbody tr th {\n",
       "        vertical-align: top;\n",
       "    }\n",
       "\n",
       "    .dataframe thead th {\n",
       "        text-align: right;\n",
       "    }\n",
       "</style>\n",
       "<table border=\"1\" class=\"dataframe\">\n",
       "  <thead>\n",
       "    <tr style=\"text-align: right;\">\n",
       "      <th></th>\n",
       "      <th>id</th>\n",
       "      <th>vaccines</th>\n",
       "      <th>tests</th>\n",
       "      <th>confirmed</th>\n",
       "      <th>recovered</th>\n",
       "      <th>deaths</th>\n",
       "      <th>hosp</th>\n",
       "      <th>vent</th>\n",
       "      <th>icu</th>\n",
       "      <th>population</th>\n",
       "      <th>...</th>\n",
       "      <th>currency</th>\n",
       "      <th>administrative_area_level</th>\n",
       "      <th>administrative_area_level_1</th>\n",
       "      <th>administrative_area_level_2</th>\n",
       "      <th>administrative_area_level_3</th>\n",
       "      <th>latitude</th>\n",
       "      <th>longitude</th>\n",
       "      <th>key</th>\n",
       "      <th>key_apple_mobility</th>\n",
       "      <th>key_google_mobility</th>\n",
       "    </tr>\n",
       "    <tr>\n",
       "      <th>date</th>\n",
       "      <th></th>\n",
       "      <th></th>\n",
       "      <th></th>\n",
       "      <th></th>\n",
       "      <th></th>\n",
       "      <th></th>\n",
       "      <th></th>\n",
       "      <th></th>\n",
       "      <th></th>\n",
       "      <th></th>\n",
       "      <th></th>\n",
       "      <th></th>\n",
       "      <th></th>\n",
       "      <th></th>\n",
       "      <th></th>\n",
       "      <th></th>\n",
       "      <th></th>\n",
       "      <th></th>\n",
       "      <th></th>\n",
       "      <th></th>\n",
       "      <th></th>\n",
       "    </tr>\n",
       "  </thead>\n",
       "  <tbody>\n",
       "    <tr>\n",
       "      <th>2020-01-22</th>\n",
       "      <td>JPN</td>\n",
       "      <td>NaN</td>\n",
       "      <td>NaN</td>\n",
       "      <td>NaN</td>\n",
       "      <td>NaN</td>\n",
       "      <td>NaN</td>\n",
       "      <td>NaN</td>\n",
       "      <td>NaN</td>\n",
       "      <td>NaN</td>\n",
       "      <td>126529100</td>\n",
       "      <td>...</td>\n",
       "      <td>JPY</td>\n",
       "      <td>1</td>\n",
       "      <td>Japan</td>\n",
       "      <td>NaN</td>\n",
       "      <td>NaN</td>\n",
       "      <td>36.0</td>\n",
       "      <td>138.0</td>\n",
       "      <td>NaN</td>\n",
       "      <td>Japan</td>\n",
       "      <td>JP</td>\n",
       "    </tr>\n",
       "    <tr>\n",
       "      <th>2020-01-23</th>\n",
       "      <td>JPN</td>\n",
       "      <td>NaN</td>\n",
       "      <td>NaN</td>\n",
       "      <td>NaN</td>\n",
       "      <td>NaN</td>\n",
       "      <td>NaN</td>\n",
       "      <td>NaN</td>\n",
       "      <td>NaN</td>\n",
       "      <td>NaN</td>\n",
       "      <td>126529100</td>\n",
       "      <td>...</td>\n",
       "      <td>JPY</td>\n",
       "      <td>1</td>\n",
       "      <td>Japan</td>\n",
       "      <td>NaN</td>\n",
       "      <td>NaN</td>\n",
       "      <td>36.0</td>\n",
       "      <td>138.0</td>\n",
       "      <td>NaN</td>\n",
       "      <td>Japan</td>\n",
       "      <td>JP</td>\n",
       "    </tr>\n",
       "    <tr>\n",
       "      <th>2020-01-24</th>\n",
       "      <td>JPN</td>\n",
       "      <td>NaN</td>\n",
       "      <td>NaN</td>\n",
       "      <td>NaN</td>\n",
       "      <td>NaN</td>\n",
       "      <td>NaN</td>\n",
       "      <td>NaN</td>\n",
       "      <td>NaN</td>\n",
       "      <td>NaN</td>\n",
       "      <td>126529100</td>\n",
       "      <td>...</td>\n",
       "      <td>JPY</td>\n",
       "      <td>1</td>\n",
       "      <td>Japan</td>\n",
       "      <td>NaN</td>\n",
       "      <td>NaN</td>\n",
       "      <td>36.0</td>\n",
       "      <td>138.0</td>\n",
       "      <td>NaN</td>\n",
       "      <td>Japan</td>\n",
       "      <td>JP</td>\n",
       "    </tr>\n",
       "    <tr>\n",
       "      <th>2020-01-25</th>\n",
       "      <td>JPN</td>\n",
       "      <td>NaN</td>\n",
       "      <td>NaN</td>\n",
       "      <td>NaN</td>\n",
       "      <td>NaN</td>\n",
       "      <td>NaN</td>\n",
       "      <td>NaN</td>\n",
       "      <td>NaN</td>\n",
       "      <td>NaN</td>\n",
       "      <td>126529100</td>\n",
       "      <td>...</td>\n",
       "      <td>JPY</td>\n",
       "      <td>1</td>\n",
       "      <td>Japan</td>\n",
       "      <td>NaN</td>\n",
       "      <td>NaN</td>\n",
       "      <td>36.0</td>\n",
       "      <td>138.0</td>\n",
       "      <td>NaN</td>\n",
       "      <td>Japan</td>\n",
       "      <td>JP</td>\n",
       "    </tr>\n",
       "    <tr>\n",
       "      <th>2020-01-26</th>\n",
       "      <td>JPN</td>\n",
       "      <td>NaN</td>\n",
       "      <td>NaN</td>\n",
       "      <td>NaN</td>\n",
       "      <td>NaN</td>\n",
       "      <td>NaN</td>\n",
       "      <td>NaN</td>\n",
       "      <td>NaN</td>\n",
       "      <td>NaN</td>\n",
       "      <td>126529100</td>\n",
       "      <td>...</td>\n",
       "      <td>JPY</td>\n",
       "      <td>1</td>\n",
       "      <td>Japan</td>\n",
       "      <td>NaN</td>\n",
       "      <td>NaN</td>\n",
       "      <td>36.0</td>\n",
       "      <td>138.0</td>\n",
       "      <td>NaN</td>\n",
       "      <td>Japan</td>\n",
       "      <td>JP</td>\n",
       "    </tr>\n",
       "  </tbody>\n",
       "</table>\n",
       "<p>5 rows × 35 columns</p>\n",
       "</div>"
      ],
      "text/plain": [
       "             id  vaccines  tests  confirmed  recovered  deaths  hosp  vent  \\\n",
       "date                                                                         \n",
       "2020-01-22  JPN       NaN    NaN        NaN        NaN     NaN   NaN   NaN   \n",
       "2020-01-23  JPN       NaN    NaN        NaN        NaN     NaN   NaN   NaN   \n",
       "2020-01-24  JPN       NaN    NaN        NaN        NaN     NaN   NaN   NaN   \n",
       "2020-01-25  JPN       NaN    NaN        NaN        NaN     NaN   NaN   NaN   \n",
       "2020-01-26  JPN       NaN    NaN        NaN        NaN     NaN   NaN   NaN   \n",
       "\n",
       "            icu  population  ...  currency  administrative_area_level  \\\n",
       "date                         ...                                        \n",
       "2020-01-22  NaN   126529100  ...       JPY                          1   \n",
       "2020-01-23  NaN   126529100  ...       JPY                          1   \n",
       "2020-01-24  NaN   126529100  ...       JPY                          1   \n",
       "2020-01-25  NaN   126529100  ...       JPY                          1   \n",
       "2020-01-26  NaN   126529100  ...       JPY                          1   \n",
       "\n",
       "            administrative_area_level_1  administrative_area_level_2  \\\n",
       "date                                                                   \n",
       "2020-01-22                        Japan                          NaN   \n",
       "2020-01-23                        Japan                          NaN   \n",
       "2020-01-24                        Japan                          NaN   \n",
       "2020-01-25                        Japan                          NaN   \n",
       "2020-01-26                        Japan                          NaN   \n",
       "\n",
       "            administrative_area_level_3  latitude  longitude  key  \\\n",
       "date                                                                \n",
       "2020-01-22                          NaN      36.0      138.0  NaN   \n",
       "2020-01-23                          NaN      36.0      138.0  NaN   \n",
       "2020-01-24                          NaN      36.0      138.0  NaN   \n",
       "2020-01-25                          NaN      36.0      138.0  NaN   \n",
       "2020-01-26                          NaN      36.0      138.0  NaN   \n",
       "\n",
       "            key_apple_mobility  key_google_mobility  \n",
       "date                                                 \n",
       "2020-01-22               Japan                   JP  \n",
       "2020-01-23               Japan                   JP  \n",
       "2020-01-24               Japan                   JP  \n",
       "2020-01-25               Japan                   JP  \n",
       "2020-01-26               Japan                   JP  \n",
       "\n",
       "[5 rows x 35 columns]"
      ]
     },
     "execution_count": 65,
     "metadata": {},
     "output_type": "execute_result"
    }
   ],
   "source": [
    "df.head()"
   ]
  },
  {
   "cell_type": "code",
   "execution_count": 66,
   "id": "b1425f24-1843-4ac8-a58f-6e41dd0980c9",
   "metadata": {},
   "outputs": [
    {
     "data": {
      "text/html": [
       "<div>\n",
       "<style scoped>\n",
       "    .dataframe tbody tr th:only-of-type {\n",
       "        vertical-align: middle;\n",
       "    }\n",
       "\n",
       "    .dataframe tbody tr th {\n",
       "        vertical-align: top;\n",
       "    }\n",
       "\n",
       "    .dataframe thead th {\n",
       "        text-align: right;\n",
       "    }\n",
       "</style>\n",
       "<table border=\"1\" class=\"dataframe\">\n",
       "  <thead>\n",
       "    <tr style=\"text-align: right;\">\n",
       "      <th></th>\n",
       "      <th>vaccines</th>\n",
       "      <th>tests</th>\n",
       "      <th>confirmed</th>\n",
       "      <th>recovered</th>\n",
       "      <th>deaths</th>\n",
       "      <th>hosp</th>\n",
       "      <th>vent</th>\n",
       "      <th>icu</th>\n",
       "      <th>population</th>\n",
       "      <th>school_closing</th>\n",
       "      <th>...</th>\n",
       "      <th>testing_policy</th>\n",
       "      <th>contact_tracing</th>\n",
       "      <th>stringency_index</th>\n",
       "      <th>iso_numeric</th>\n",
       "      <th>administrative_area_level</th>\n",
       "      <th>administrative_area_level_2</th>\n",
       "      <th>administrative_area_level_3</th>\n",
       "      <th>latitude</th>\n",
       "      <th>longitude</th>\n",
       "      <th>key</th>\n",
       "    </tr>\n",
       "  </thead>\n",
       "  <tbody>\n",
       "    <tr>\n",
       "      <th>count</th>\n",
       "      <td>1.180000e+02</td>\n",
       "      <td>5.140000e+02</td>\n",
       "      <td>511.000000</td>\n",
       "      <td>514.000000</td>\n",
       "      <td>516.000000</td>\n",
       "      <td>513.000000</td>\n",
       "      <td>0.0</td>\n",
       "      <td>504.000000</td>\n",
       "      <td>531.0</td>\n",
       "      <td>528.000000</td>\n",
       "      <td>...</td>\n",
       "      <td>528.000000</td>\n",
       "      <td>528.000000</td>\n",
       "      <td>531.000000</td>\n",
       "      <td>531.0</td>\n",
       "      <td>531.0</td>\n",
       "      <td>0.0</td>\n",
       "      <td>0.0</td>\n",
       "      <td>531.0</td>\n",
       "      <td>531.0</td>\n",
       "      <td>0.0</td>\n",
       "    </tr>\n",
       "    <tr>\n",
       "      <th>mean</th>\n",
       "      <td>1.086348e+07</td>\n",
       "      <td>4.585922e+06</td>\n",
       "      <td>231374.939335</td>\n",
       "      <td>203847.167315</td>\n",
       "      <td>4090.490310</td>\n",
       "      <td>18300.265107</td>\n",
       "      <td>NaN</td>\n",
       "      <td>403.992063</td>\n",
       "      <td>126529100.0</td>\n",
       "      <td>1.295455</td>\n",
       "      <td>...</td>\n",
       "      <td>1.539773</td>\n",
       "      <td>1.159091</td>\n",
       "      <td>39.408927</td>\n",
       "      <td>392.0</td>\n",
       "      <td>1.0</td>\n",
       "      <td>NaN</td>\n",
       "      <td>NaN</td>\n",
       "      <td>36.0</td>\n",
       "      <td>138.0</td>\n",
       "      <td>NaN</td>\n",
       "    </tr>\n",
       "    <tr>\n",
       "      <th>std</th>\n",
       "      <td>1.343260e+07</td>\n",
       "      <td>4.972132e+06</td>\n",
       "      <td>255622.839395</td>\n",
       "      <td>234583.633081</td>\n",
       "      <td>4500.364432</td>\n",
       "      <td>19650.099479</td>\n",
       "      <td>NaN</td>\n",
       "      <td>363.483833</td>\n",
       "      <td>0.0</td>\n",
       "      <td>0.840065</td>\n",
       "      <td>...</td>\n",
       "      <td>0.498888</td>\n",
       "      <td>0.366108</td>\n",
       "      <td>10.559744</td>\n",
       "      <td>0.0</td>\n",
       "      <td>0.0</td>\n",
       "      <td>NaN</td>\n",
       "      <td>NaN</td>\n",
       "      <td>0.0</td>\n",
       "      <td>0.0</td>\n",
       "      <td>NaN</td>\n",
       "    </tr>\n",
       "    <tr>\n",
       "      <th>min</th>\n",
       "      <td>1.250000e+02</td>\n",
       "      <td>0.000000e+00</td>\n",
       "      <td>25.000000</td>\n",
       "      <td>0.000000</td>\n",
       "      <td>0.000000</td>\n",
       "      <td>3.000000</td>\n",
       "      <td>NaN</td>\n",
       "      <td>3.000000</td>\n",
       "      <td>126529100.0</td>\n",
       "      <td>0.000000</td>\n",
       "      <td>...</td>\n",
       "      <td>1.000000</td>\n",
       "      <td>1.000000</td>\n",
       "      <td>2.780000</td>\n",
       "      <td>392.0</td>\n",
       "      <td>1.0</td>\n",
       "      <td>NaN</td>\n",
       "      <td>NaN</td>\n",
       "      <td>36.0</td>\n",
       "      <td>138.0</td>\n",
       "      <td>NaN</td>\n",
       "    </tr>\n",
       "    <tr>\n",
       "      <th>25%</th>\n",
       "      <td>1.014582e+06</td>\n",
       "      <td>3.390022e+05</td>\n",
       "      <td>17670.000000</td>\n",
       "      <td>15649.750000</td>\n",
       "      <td>931.000000</td>\n",
       "      <td>4493.000000</td>\n",
       "      <td>NaN</td>\n",
       "      <td>131.000000</td>\n",
       "      <td>126529100.0</td>\n",
       "      <td>1.000000</td>\n",
       "      <td>...</td>\n",
       "      <td>1.000000</td>\n",
       "      <td>1.000000</td>\n",
       "      <td>32.410000</td>\n",
       "      <td>392.0</td>\n",
       "      <td>1.0</td>\n",
       "      <td>NaN</td>\n",
       "      <td>NaN</td>\n",
       "      <td>36.0</td>\n",
       "      <td>138.0</td>\n",
       "      <td>NaN</td>\n",
       "    </tr>\n",
       "    <tr>\n",
       "      <th>50%</th>\n",
       "      <td>4.128388e+06</td>\n",
       "      <td>2.473999e+06</td>\n",
       "      <td>95924.000000</td>\n",
       "      <td>86769.500000</td>\n",
       "      <td>1682.500000</td>\n",
       "      <td>11703.000000</td>\n",
       "      <td>NaN</td>\n",
       "      <td>251.500000</td>\n",
       "      <td>126529100.0</td>\n",
       "      <td>1.000000</td>\n",
       "      <td>...</td>\n",
       "      <td>2.000000</td>\n",
       "      <td>1.000000</td>\n",
       "      <td>40.740000</td>\n",
       "      <td>392.0</td>\n",
       "      <td>1.0</td>\n",
       "      <td>NaN</td>\n",
       "      <td>NaN</td>\n",
       "      <td>36.0</td>\n",
       "      <td>138.0</td>\n",
       "      <td>NaN</td>\n",
       "    </tr>\n",
       "    <tr>\n",
       "      <th>75%</th>\n",
       "      <td>1.717703e+07</td>\n",
       "      <td>8.128750e+06</td>\n",
       "      <td>432127.500000</td>\n",
       "      <td>406012.250000</td>\n",
       "      <td>7835.250000</td>\n",
       "      <td>25411.000000</td>\n",
       "      <td>NaN</td>\n",
       "      <td>622.250000</td>\n",
       "      <td>126529100.0</td>\n",
       "      <td>1.000000</td>\n",
       "      <td>...</td>\n",
       "      <td>2.000000</td>\n",
       "      <td>1.000000</td>\n",
       "      <td>48.150000</td>\n",
       "      <td>392.0</td>\n",
       "      <td>1.0</td>\n",
       "      <td>NaN</td>\n",
       "      <td>NaN</td>\n",
       "      <td>36.0</td>\n",
       "      <td>138.0</td>\n",
       "      <td>NaN</td>\n",
       "    </tr>\n",
       "    <tr>\n",
       "      <th>max</th>\n",
       "      <td>4.624897e+07</td>\n",
       "      <td>1.663800e+07</td>\n",
       "      <td>807413.000000</td>\n",
       "      <td>773110.000000</td>\n",
       "      <td>14865.000000</td>\n",
       "      <td>73562.000000</td>\n",
       "      <td>NaN</td>\n",
       "      <td>1413.000000</td>\n",
       "      <td>126529100.0</td>\n",
       "      <td>3.000000</td>\n",
       "      <td>...</td>\n",
       "      <td>2.000000</td>\n",
       "      <td>2.000000</td>\n",
       "      <td>55.090000</td>\n",
       "      <td>392.0</td>\n",
       "      <td>1.0</td>\n",
       "      <td>NaN</td>\n",
       "      <td>NaN</td>\n",
       "      <td>36.0</td>\n",
       "      <td>138.0</td>\n",
       "      <td>NaN</td>\n",
       "    </tr>\n",
       "  </tbody>\n",
       "</table>\n",
       "<p>8 rows × 28 columns</p>\n",
       "</div>"
      ],
      "text/plain": [
       "           vaccines         tests      confirmed      recovered        deaths  \\\n",
       "count  1.180000e+02  5.140000e+02     511.000000     514.000000    516.000000   \n",
       "mean   1.086348e+07  4.585922e+06  231374.939335  203847.167315   4090.490310   \n",
       "std    1.343260e+07  4.972132e+06  255622.839395  234583.633081   4500.364432   \n",
       "min    1.250000e+02  0.000000e+00      25.000000       0.000000      0.000000   \n",
       "25%    1.014582e+06  3.390022e+05   17670.000000   15649.750000    931.000000   \n",
       "50%    4.128388e+06  2.473999e+06   95924.000000   86769.500000   1682.500000   \n",
       "75%    1.717703e+07  8.128750e+06  432127.500000  406012.250000   7835.250000   \n",
       "max    4.624897e+07  1.663800e+07  807413.000000  773110.000000  14865.000000   \n",
       "\n",
       "               hosp  vent          icu   population  school_closing  ...  \\\n",
       "count    513.000000   0.0   504.000000        531.0      528.000000  ...   \n",
       "mean   18300.265107   NaN   403.992063  126529100.0        1.295455  ...   \n",
       "std    19650.099479   NaN   363.483833          0.0        0.840065  ...   \n",
       "min        3.000000   NaN     3.000000  126529100.0        0.000000  ...   \n",
       "25%     4493.000000   NaN   131.000000  126529100.0        1.000000  ...   \n",
       "50%    11703.000000   NaN   251.500000  126529100.0        1.000000  ...   \n",
       "75%    25411.000000   NaN   622.250000  126529100.0        1.000000  ...   \n",
       "max    73562.000000   NaN  1413.000000  126529100.0        3.000000  ...   \n",
       "\n",
       "       testing_policy  contact_tracing  stringency_index  iso_numeric  \\\n",
       "count      528.000000       528.000000        531.000000        531.0   \n",
       "mean         1.539773         1.159091         39.408927        392.0   \n",
       "std          0.498888         0.366108         10.559744          0.0   \n",
       "min          1.000000         1.000000          2.780000        392.0   \n",
       "25%          1.000000         1.000000         32.410000        392.0   \n",
       "50%          2.000000         1.000000         40.740000        392.0   \n",
       "75%          2.000000         1.000000         48.150000        392.0   \n",
       "max          2.000000         2.000000         55.090000        392.0   \n",
       "\n",
       "       administrative_area_level  administrative_area_level_2  \\\n",
       "count                      531.0                          0.0   \n",
       "mean                         1.0                          NaN   \n",
       "std                          0.0                          NaN   \n",
       "min                          1.0                          NaN   \n",
       "25%                          1.0                          NaN   \n",
       "50%                          1.0                          NaN   \n",
       "75%                          1.0                          NaN   \n",
       "max                          1.0                          NaN   \n",
       "\n",
       "       administrative_area_level_3  latitude  longitude  key  \n",
       "count                          0.0     531.0      531.0  0.0  \n",
       "mean                           NaN      36.0      138.0  NaN  \n",
       "std                            NaN       0.0        0.0  NaN  \n",
       "min                            NaN      36.0      138.0  NaN  \n",
       "25%                            NaN      36.0      138.0  NaN  \n",
       "50%                            NaN      36.0      138.0  NaN  \n",
       "75%                            NaN      36.0      138.0  NaN  \n",
       "max                            NaN      36.0      138.0  NaN  \n",
       "\n",
       "[8 rows x 28 columns]"
      ]
     },
     "execution_count": 66,
     "metadata": {},
     "output_type": "execute_result"
    }
   ],
   "source": [
    "# 基礎統計\n",
    "df.describe()"
   ]
  },
  {
   "cell_type": "code",
   "execution_count": 67,
   "id": "b9a66eaf-f6f3-4157-a85e-8c9deeb26a5e",
   "metadata": {},
   "outputs": [
    {
     "name": "stdout",
     "output_type": "stream",
     "text": [
      "<class 'pandas.core.frame.DataFrame'>\n",
      "Index: 531 entries, 2020-01-22 to 2021-07-05\n",
      "Data columns (total 35 columns):\n",
      " #   Column                               Non-Null Count  Dtype  \n",
      "---  ------                               --------------  -----  \n",
      " 0   id                                   531 non-null    object \n",
      " 1   vaccines                             118 non-null    float64\n",
      " 2   tests                                514 non-null    float64\n",
      " 3   confirmed                            511 non-null    float64\n",
      " 4   recovered                            514 non-null    float64\n",
      " 5   deaths                               516 non-null    float64\n",
      " 6   hosp                                 513 non-null    float64\n",
      " 7   vent                                 0 non-null      float64\n",
      " 8   icu                                  504 non-null    float64\n",
      " 9   population                           531 non-null    int64  \n",
      " 10  school_closing                       528 non-null    float64\n",
      " 11  workplace_closing                    528 non-null    float64\n",
      " 12  cancel_events                        527 non-null    float64\n",
      " 13  gatherings_restrictions              528 non-null    float64\n",
      " 14  transport_closing                    528 non-null    float64\n",
      " 15  stay_home_restrictions               528 non-null    float64\n",
      " 16  internal_movement_restrictions       528 non-null    float64\n",
      " 17  international_movement_restrictions  528 non-null    float64\n",
      " 18  information_campaigns                528 non-null    float64\n",
      " 19  testing_policy                       528 non-null    float64\n",
      " 20  contact_tracing                      528 non-null    float64\n",
      " 21  stringency_index                     531 non-null    float64\n",
      " 22  iso_alpha_3                          531 non-null    object \n",
      " 23  iso_alpha_2                          531 non-null    object \n",
      " 24  iso_numeric                          531 non-null    float64\n",
      " 25  currency                             531 non-null    object \n",
      " 26  administrative_area_level            531 non-null    int64  \n",
      " 27  administrative_area_level_1          531 non-null    object \n",
      " 28  administrative_area_level_2          0 non-null      float64\n",
      " 29  administrative_area_level_3          0 non-null      float64\n",
      " 30  latitude                             531 non-null    float64\n",
      " 31  longitude                            531 non-null    float64\n",
      " 32  key                                  0 non-null      float64\n",
      " 33  key_apple_mobility                   531 non-null    object \n",
      " 34  key_google_mobility                  531 non-null    object \n",
      "dtypes: float64(26), int64(2), object(7)\n",
      "memory usage: 149.3+ KB\n"
     ]
    }
   ],
   "source": [
    "df.info()"
   ]
  },
  {
   "cell_type": "code",
   "execution_count": 68,
   "id": "dabc3cc2-00ab-4ec4-9bb9-8c5a00d4b22c",
   "metadata": {},
   "outputs": [
    {
     "data": {
      "text/plain": [
       "id                                       0\n",
       "vaccines                               413\n",
       "tests                                   17\n",
       "confirmed                               20\n",
       "recovered                               17\n",
       "deaths                                  15\n",
       "hosp                                    18\n",
       "vent                                   531\n",
       "icu                                     27\n",
       "population                               0\n",
       "school_closing                           3\n",
       "workplace_closing                        3\n",
       "cancel_events                            4\n",
       "gatherings_restrictions                  3\n",
       "transport_closing                        3\n",
       "stay_home_restrictions                   3\n",
       "internal_movement_restrictions           3\n",
       "international_movement_restrictions      3\n",
       "information_campaigns                    3\n",
       "testing_policy                           3\n",
       "contact_tracing                          3\n",
       "stringency_index                         0\n",
       "iso_alpha_3                              0\n",
       "iso_alpha_2                              0\n",
       "iso_numeric                              0\n",
       "currency                                 0\n",
       "administrative_area_level                0\n",
       "administrative_area_level_1              0\n",
       "administrative_area_level_2            531\n",
       "administrative_area_level_3            531\n",
       "latitude                                 0\n",
       "longitude                                0\n",
       "key                                    531\n",
       "key_apple_mobility                       0\n",
       "key_google_mobility                      0\n",
       "dtype: int64"
      ]
     },
     "execution_count": 68,
     "metadata": {},
     "output_type": "execute_result"
    }
   ],
   "source": [
    "# 欠損値の確認\n",
    "df.isnull().sum()"
   ]
  },
  {
   "cell_type": "code",
   "execution_count": 69,
   "id": "d01f172e-93c0-434d-9801-af96e7b8d9a5",
   "metadata": {},
   "outputs": [],
   "source": [
    "# csv書き込み\n",
    "# df.to_csv(data_dir + 'covid19_tokyo.csv', index=False)"
   ]
  },
  {
   "cell_type": "code",
   "execution_count": 80,
   "id": "f5a58ab5-a646-43ea-9d2e-2b81750675ee",
   "metadata": {},
   "outputs": [
    {
     "data": {
      "text/plain": [
       "<AxesSubplot:xlabel='date', ylabel='tests'>"
      ]
     },
     "execution_count": 80,
     "metadata": {},
     "output_type": "execute_result"
    },
    {
     "data": {
      "image/png": "[encoded data removed]",
      "text/plain": [
       "<Figure size 432x288 with 1 Axes>"
      ]
     },
     "metadata": {
      "needs_background": "light"
     },
     "output_type": "display_data"
    }
   ],
   "source": [
    "# plot\n",
    "# PCR検査の推移\n",
    "sns.lineplot(data=df, x='date', y='tests')"
   ]
  },
  {
   "cell_type": "code",
   "execution_count": 73,
   "id": "c41518a9-806e-4eca-82cc-9a79b0d613bb",
   "metadata": {},
   "outputs": [
    {
     "data": {
      "text/plain": [
       "<AxesSubplot:xlabel='date', ylabel='confirmed'>"
      ]
     },
     "execution_count": 73,
     "metadata": {},
     "output_type": "execute_result"
    },
    {
     "data": {
      "image/png": "[encoded data removed]",
      "text/plain": [
       "<Figure size 432x288 with 1 Axes>"
      ]
     },
     "metadata": {
      "needs_background": "light"
     },
     "output_type": "display_data"
    }
   ],
   "source": [
    "# plot\n",
    "# 感染者の推移\n",
    "sns.lineplot(data=df, x='date', y='confirmed')"
   ]
  },
  {
   "cell_type": "code",
   "execution_count": 75,
   "id": "cb8f38ca-071d-4d7c-b9cd-fc35715eb0ed",
   "metadata": {},
   "outputs": [
    {
     "data": {
      "text/plain": [
       "<AxesSubplot:xlabel='date', ylabel='recovered'>"
      ]
     },
     "execution_count": 75,
     "metadata": {},
     "output_type": "execute_result"
    },
    {
     "data": {
      "image/png": "[encoded data removed]",
      "text/plain": [
       "<Figure size 432x288 with 1 Axes>"
      ]
     },
     "metadata": {
      "needs_background": "light"
     },
     "output_type": "display_data"
    }
   ],
   "source": [
    "# 回復者の推移\n",
    "sns.lineplot(data=df, x='date', y='recovered')"
   ]
  },
  {
   "cell_type": "code",
   "execution_count": 76,
   "id": "6809091e-5072-4b7b-be1f-f5c640433725",
   "metadata": {},
   "outputs": [
    {
     "data": {
      "text/plain": [
       "<AxesSubplot:xlabel='date', ylabel='icu'>"
      ]
     },
     "execution_count": 76,
     "metadata": {},
     "output_type": "execute_result"
    },
    {
     "data": {
      "image/png": "[encoded data removed]",
      "text/plain": [
       "<Figure size 432x288 with 1 Axes>"
      ]
     },
     "metadata": {
      "needs_background": "light"
     },
     "output_type": "display_data"
    }
   ],
   "source": [
    "# icuの推移\n",
    "sns.lineplot(data=df, x='date', y='icu')"
   ]
  },
  {
   "cell_type": "code",
   "execution_count": 79,
   "id": "8860249e-4095-443c-809d-48cfcd35cd25",
   "metadata": {},
   "outputs": [
    {
     "data": {
      "text/plain": [
       "<AxesSubplot:xlabel='date', ylabel='deaths'>"
      ]
     },
     "execution_count": 79,
     "metadata": {},
     "output_type": "execute_result"
    },
    {
     "data": {
      "image/png": "[encoded data removed]",
      "text/plain": [
       "<Figure size 432x288 with 1 Axes>"
      ]
     },
     "metadata": {
      "needs_background": "light"
     },
     "output_type": "display_data"
    }
   ],
   "source": [
    "# 死亡者の推移\n",
    "sns.lineplot(data=df, x='date', y='deaths')"
   ]
  },
  {
   "cell_type": "code",
   "execution_count": 78,
   "id": "3a89c799-f15a-44a9-9a07-73503c7b5dd9",
   "metadata": {},
   "outputs": [
    {
     "data": {
      "text/plain": [
       "<AxesSubplot:xlabel='date', ylabel='hosp'>"
      ]
     },
     "execution_count": 78,
     "metadata": {},
     "output_type": "execute_result"
    },
    {
     "data": {
      "image/png": "[encoded data removed]",
      "text/plain": [
       "<Figure size 432x288 with 1 Axes>"
      ]
     },
     "metadata": {
      "needs_background": "light"
     },
     "output_type": "display_data"
    }
   ],
   "source": [
    "# hospの推移\n",
    "sns.lineplot(data=df, x='date', y='hosp')"
   ]
  },
  {
   "cell_type": "code",
   "execution_count": 77,
   "id": "c68a6a88-112d-416f-bfde-89dfb7bd38ce",
   "metadata": {},
   "outputs": [
    {
     "data": {
      "text/plain": [
       "<AxesSubplot:xlabel='date', ylabel='stay_home_restrictions'>"
      ]
     },
     "execution_count": 77,
     "metadata": {},
     "output_type": "execute_result"
    },
    {
     "data": {
      "image/png": "[encoded data removed]",
      "text/plain": [
       "<Figure size 432x288 with 1 Axes>"
      ]
     },
     "metadata": {
      "needs_background": "light"
     },
     "output_type": "display_data"
    }
   ],
   "source": [
    "# stay home restrictionsの推移\n",
    "sns.lineplot(data=df, x='date', y='stay_home_restrictions')"
   ]
  },
  {
   "cell_type": "code",
   "execution_count": 74,
   "id": "df078cb3-be19-49a1-a985-64035be8376f",
   "metadata": {},
   "outputs": [
    {
     "data": {
      "text/plain": [
       "<AxesSubplot:xlabel='date', ylabel='vaccines'>"
      ]
     },
     "execution_count": 74,
     "metadata": {},
     "output_type": "execute_result"
    },
    {
     "data": {
      "image/png": "[encoded data removed]",
      "text/plain": [
       "<Figure size 432x288 with 1 Axes>"
      ]
     },
     "metadata": {
      "needs_background": "light"
     },
     "output_type": "display_data"
    }
   ],
   "source": [
    "# ワクチン接種の推移\n",
    "sns.lineplot(data=df, x='date', y='vaccines')"
   ]
  },
  {
   "cell_type": "code",
   "execution_count": 75,
   "id": "724e8c37-40a3-4420-853b-baeedd0a00c0",
   "metadata": {},
   "outputs": [
    {
     "data": {
      "text/plain": [
       "<AxesSubplot:xlabel='date', ylabel='recovered'>"
      ]
     },
     "execution_count": 75,
     "metadata": {},
     "output_type": "execute_result"
    },
    {
     "data": {
      "image/png": "[encoded data removed]",
      "text/plain": [
       "<Figure size 432x288 with 1 Axes>"
      ]
     },
     "metadata": {
      "needs_background": "light"
     },
     "output_type": "display_data"
    }
   ],
   "source": []
  },
  {
   "cell_type": "code",
   "execution_count": 92,
   "id": "41235a00-b8cc-479a-9587-b0598ea69e4c",
   "metadata": {},
   "outputs": [
    {
     "data": {
      "text/plain": [
       "date\n",
       "2020-01-22    1\n",
       "2020-01-23    1\n",
       "2020-01-24    1\n",
       "2020-01-25    1\n",
       "2020-01-26    1\n",
       "             ..\n",
       "2021-07-01    1\n",
       "2021-07-02    1\n",
       "2021-07-03    1\n",
       "2021-07-04    1\n",
       "2021-07-05    1\n",
       "Name: administrative_area_level, Length: 531, dtype: int64"
      ]
     },
     "execution_count": 92,
     "metadata": {},
     "output_type": "execute_result"
    }
   ],
   "source": [
    "df['administrative_area_level'].sort_index()"
   ]
  },
  {
   "cell_type": "code",
   "execution_count": null,
   "id": "98d8d0c4-4bb4-4e70-89b8-c10df0f717b0",
   "metadata": {},
   "outputs": [],
   "source": [
    "sort_index"
   ]
  }
 ],
 "metadata": {
  "kernelspec": {
   "display_name": "Python 3",
   "language": "python",
   "name": "python3"
  },
  "language_info": {
   "codemirror_mode": {
    "name": "ipython",
    "version": 3
   },
   "file_extension": ".py",
   "mimetype": "text/x-python",
   "name": "python",
   "nbconvert_exporter": "python",
   "pygments_lexer": "ipython3",
   "version": "3.8.5"
  }
 },
 "nbformat": 4,
 "nbformat_minor": 5
}
